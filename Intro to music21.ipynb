{
 "cells": [
  {
   "cell_type": "markdown",
   "metadata": {},
   "source": [
    "# Welcome to music21!\n",
    "\n",
    "music21 is a powerful application developed by Michael Cuthbert at MIT for analyzing music.\n",
    "\n",
    "## Starting music21\n",
    "\n",
    "music21 runs on Python, which is a programming framework. In order to start music21, you need to tell Python to load it. In order to do that, you will need to **type** (don't copy and paste) the following code into the box below:\n",
    "\n",
    "    from music21 import *\n",
    "    \n",
    "To execute this command, hit Shift+Enter (Windows) or Ctrl+Enter (Mac)."
   ]
  },
  {
   "cell_type": "code",
   "execution_count": 9,
   "metadata": {},
   "outputs": [],
   "source": []
  },
  {
   "cell_type": "markdown",
   "metadata": {},
   "source": [
    "If you received an error mesage, you will need to double-check that you have entered your code properly. You can just edit your code and then execute your command again.\n",
    "\n",
    "Otherwise, if you did nothing changed, you have successfully loaded the music21 library into Python. This will allow you to start running your music analyses!"
   ]
  },
  {
   "cell_type": "markdown",
   "metadata": {},
   "source": [
    "## Import your file\n",
    "Now that you have music21 running, you will want to import your music file so that you can start analyzing it. To do this, we will need to follow a couple of steps.\n",
    "\n",
    "First, we need to tell Python where to go to get the file. To do this, we will declare a variable called \"filePath\" and set its value to the location of your musicXML file. Since the path is a string, or series of alpha-numeric characters, you need to put the path in quotes. So, execute the following code:\n",
    "\n",
    "    filePath = \"[enter your file path here]\""
   ]
  },
  {
   "cell_type": "code",
   "execution_count": null,
   "metadata": {},
   "outputs": [],
   "source": []
  },
  {
   "cell_type": "markdown",
   "metadata": {},
   "source": [
    "It is now time to tell Python to import your file. This is actually a complicated process in which python must import and structure all of the voices, bars, notes, etc. in a way that it can understand. Thankfully, music21 has a converter command that can do this for you. This time, instead of executing just one command, we are going to tell python to run two commands at once. Each command will be separated by a line break, created by pressing enter. Execute the following (pressing the Shift+Enter or Ctrl+Enter **after** typing **both** lines):\n",
    "\n",
    "    p = converter.parse(filePath)\n",
    "    print(p)\n",
    "\n",
    "If you get an error, double check that you have entered your code correctly. "
   ]
  },
  {
   "cell_type": "code",
   "execution_count": null,
   "metadata": {},
   "outputs": [],
   "source": []
  },
  {
   "cell_type": "markdown",
   "metadata": {},
   "source": [
    "Although music21 offers support for MEI files, it was originally developed to work with musicXML files. Therefore, music21 can struggle to parse more complicated MEI files.\n",
    "\n",
    "If you are successful in executing the above code, you should see something like the following:\n",
    "\n",
    "    <music21.stream.Score 0x24e272dda90>\n",
    "    \n",
    "This means that music21 has stored your score in something called a stream, and that stream has a unique identifier (0x24e272dda90 in my case). A stream is simply a data structure, and in music21 it is spaced in time. So, each object has an offset that represents how many quarter notes it lies from the beginning. A stream can (and often does) contain other streams for scores, parts, and measures. If you want to see the structures and values in your stream, you will have to run a looping command in Python. This means that you run a command (or series of commands) over and over as long as a particular condition is met. For a loop in Python, you start with 'for' and then place a colon (:) after you have written the condition statement. The looped code is then placed on the next line and indented. To see your stream, use the following code:\n",
    "\n",
    "    for el in p.recurse():\n",
    "        print(el.offset, el, el.activeSite)"
   ]
  },
  {
   "cell_type": "code",
   "execution_count": null,
   "metadata": {},
   "outputs": [],
   "source": []
  },
  {
   "cell_type": "markdown",
   "metadata": {},
   "source": [
    "## Analyzing your score\n",
    "Now that your score is loaded in Python, you can start to analyze it. The following will introduce some of the basic ways that music21 can analyze a score. If you would like to learn more, have a look at the User Manual available online at: http://web.mit.edu/music21/doc/usersGuide/index.html.\n",
    "\n",
    "### Transform your score to chords\n",
    "Sometimes it can be helpful to view the chordal structures within your score. To distill your score into a chord form, use the following code, being sure to differentiate the single quotes and double quotes:\n",
    "\n",
    "    pChords = p.chordify()\n",
    "    pChords.write('musicxml', fp=\"chords.xml\")"
   ]
  },
  {
   "cell_type": "code",
   "execution_count": null,
   "metadata": {},
   "outputs": [],
   "source": []
  },
  {
   "cell_type": "markdown",
   "metadata": {},
   "source": [
    "You will notice in this series of commands that we first set a new variable, pChords. The value of that variable was p (which, you will recall is the stream that contains your score). You will note, however, that \".chordify()\" follows that p variable. This is the command that will distill your score into chords. \n",
    "\n",
    "The second command simply writes the result of your chordify command to a musicXML file that will be called \"chords.xml\".\n",
    "\n",
    "You will note that the chords are quite complex, but you can have music21 simplify them into closed position. To do this, run the following loop:\n",
    "\n",
    "    for c in pChords.recurse().getElementsByClass('Chord'):\n",
    "        c.closedPosition(forceOctave=4, inPlace=True)\n",
    "    pChords.write('musicxml', fp=\"chords.xml\")\n",
    "\n",
    "In order to run the second command (the loop is the first), you will need to make sure that you are no longer indented. Usually this is accomplished by pressing the Enter key and then hitting the backspace."
   ]
  },
  {
   "cell_type": "code",
   "execution_count": null,
   "metadata": {},
   "outputs": [],
   "source": [
    " "
   ]
  },
  {
   "cell_type": "markdown",
   "metadata": {},
   "source": [
    "### Perform harmonic analysis\n",
    "music21 can now analyze your chords. To do this, type the following:\n",
    "\n",
    "    pAnalysis = pChords\n",
    "    for c in pAnalysis.recurse().getElementsByClass('Chord'):\n",
    "        rn = roman.romanNumeralFromChord(c, key.Key('F'))\n",
    "        c.addLyric(str(rn.figure))\n",
    "    \n",
    "    pAnalysis.write('musicxml', fp=\"ChordAnalysis.xml\")\n"
   ]
  },
  {
   "cell_type": "code",
   "execution_count": null,
   "metadata": {},
   "outputs": [],
   "source": []
  },
  {
   "cell_type": "markdown",
   "metadata": {},
   "source": [
    "### Get the ambitus\n",
    "music21 can extract the range of a particular voice or instrument. To do this, you will need to figure out which part you would like to analyze. If you are struggling to determine that, you can review the stream structure we displayed above. If you do know the part, use the following, substituting the 0 with the proper part number:\n",
    "\n",
    "    print(p.parts[0].analyze('ambitus'))"
   ]
  },
  {
   "cell_type": "code",
   "execution_count": null,
   "metadata": {},
   "outputs": [],
   "source": []
  },
  {
   "cell_type": "markdown",
   "metadata": {},
   "source": [
    "### Piano roll of pitches\n",
    "music21 can generate a piano roll of your pitches. Again, it can help if you know the part that you wish to plot. This code will also ask you for which measures you wish to plot:\n",
    "\n",
    "    voice = p.parts[0]\n",
    "    voice.measures(1, 10).plot()\n",
    "\n",
    "Once again, you can change which part you wish to plot by modifying the 0 in the first line. You can select the measures you wish to plot as well. In the second line, the 1 is the first measure to plot, and the 10 is the last measure. So, \"voice.measures(40,75).plot()\" would capture measures 40 through 75.\n",
    "\n",
    "If you would like to use this or any other visualization in your report, all you need to do is save the image it generates. For Windows, right-click on the image and select \"Save Image As\". Mac users click and hold on the image and select the same."
   ]
  },
  {
   "cell_type": "code",
   "execution_count": null,
   "metadata": {},
   "outputs": [],
   "source": []
  },
  {
   "cell_type": "markdown",
   "metadata": {},
   "source": [
    "### Scatter plot of pitches\n",
    "You can also generate a visualization of the pitches that are present in your piece. To do that, run the following code:\n",
    "\n",
    "    p.plot('scatter', 'quarterLength', 'pitch', title='My Scatter Plot')\n",
    " "
   ]
  },
  {
   "cell_type": "code",
   "execution_count": null,
   "metadata": {},
   "outputs": [],
   "source": []
  },
  {
   "cell_type": "markdown",
   "metadata": {},
   "source": [
    "### Pitch histogram\n",
    "You can see which pitches are used most (or least) in your piece by creating a histogram. To do this, run:\n",
    "\n",
    "    p.plot('histogram', 'octave', xHideUnused=False, xAxisLabel='Number of Pitches')"
   ]
  },
  {
   "cell_type": "code",
   "execution_count": null,
   "metadata": {},
   "outputs": [],
   "source": []
  }
 ],
 "metadata": {
  "kernelspec": {
   "display_name": "Python 3",
   "language": "python",
   "name": "python3"
  },
  "language_info": {
   "codemirror_mode": {
    "name": "ipython",
    "version": 3
   },
   "file_extension": ".py",
   "mimetype": "text/x-python",
   "name": "python",
   "nbconvert_exporter": "python",
   "pygments_lexer": "ipython3",
   "version": "3.7.1"
  }
 },
 "nbformat": 4,
 "nbformat_minor": 2
}
